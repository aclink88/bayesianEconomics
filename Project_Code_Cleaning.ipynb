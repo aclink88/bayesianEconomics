{
 "cells": [
  {
   "cell_type": "code",
   "execution_count": 57,
   "id": "e8efba83",
   "metadata": {},
   "outputs": [],
   "source": [
    "## Imports\n",
    "%matplotlib inline\n",
    "import re\n",
    "import numpy as np\n",
    "import pandas as pd\n",
    "import pymc3 as pm\n",
    "from scipy.stats import multivariate_normal\n",
    "from itertools import combinations\n",
    "import matplotlib.pyplot as plt\n",
    "from IPython.display import Markdown, display_html\n",
    "import seaborn as sns\n",
    "sns.set_context('notebook')\n",
    "sns.set_style('white')\n",
    "import mpmath as mp\n",
    "import warnings\n",
    "## Below is to run more than 2 chains (CPU count)\n",
    "import multiprocessing#; multiprocessing.cpu_count()\n",
    "import statsmodels.api as sm\n",
    "from statsmodels.tools import add_constant\n",
    "from itertools import combinations\n",
    "mp.dps = 50\n",
    "import arviz as az\n",
    "az.style.use(\"arviz-darkgrid\")\n",
    "\n",
    "from pymc3 import get_data,plot_forest,traceplot,plot_posterior,Model,sample,Normal,HalfCauchy,Uniform,Deterministic"
   ]
  },
  {
   "cell_type": "code",
   "execution_count": 8,
   "id": "b89f1c46",
   "metadata": {},
   "outputs": [],
   "source": [
    "df = pd.read_csv('import.csv')"
   ]
  },
  {
   "cell_type": "code",
   "execution_count": 17,
   "id": "8abbe0e6",
   "metadata": {},
   "outputs": [],
   "source": [
    "df1 = df.drop(df.columns[[3,4,6,7,8,9,10,11,13,15,17,19,21]], axis=1)"
   ]
  },
  {
   "cell_type": "code",
   "execution_count": 33,
   "id": "09ac64d9",
   "metadata": {},
   "outputs": [],
   "source": [
    "df2 = df.drop(df.iloc[:,3:24], axis=1)"
   ]
  },
  {
   "cell_type": "code",
   "execution_count": 40,
   "id": "8e56fe6e",
   "metadata": {},
   "outputs": [],
   "source": [
    "df3 = df2.drop(df2.columns[[4,6,8,10,12,14,16,18,20,22,24,26]], axis=1)"
   ]
  },
  {
   "cell_type": "code",
   "execution_count": 49,
   "id": "d5193e5f",
   "metadata": {},
   "outputs": [],
   "source": [
    "df4 = df3.drop(df3.iloc[:,21:32], axis=1)"
   ]
  },
  {
   "cell_type": "code",
   "execution_count": 54,
   "id": "5880a448",
   "metadata": {},
   "outputs": [
    {
     "data": {
      "text/plain": [
       "'Percent!!INDUSTRY!!Civilian employed population 16 years and over!!Agriculture, forestry, fishing and hunting, and mining'"
      ]
     },
     "execution_count": 54,
     "metadata": {},
     "output_type": "execute_result"
    }
   ],
   "source": [
    "df4.columns[3]"
   ]
  },
  {
   "cell_type": "code",
   "execution_count": 61,
   "id": "c3ca2e91",
   "metadata": {},
   "outputs": [],
   "source": [
    "df5 = df4.rename(columns=lambda x: re.sub(\".*\\!\", \"\", x))"
   ]
  },
  {
   "cell_type": "code",
   "execution_count": 82,
   "id": "c916ac86",
   "metadata": {},
   "outputs": [],
   "source": [
    "inc = df5.iloc[:,[0,16,17,18,19,20]]"
   ]
  },
  {
   "cell_type": "code",
   "execution_count": 84,
   "id": "64eab7b5",
   "metadata": {},
   "outputs": [],
   "source": [
    "per = df5.drop(df5.iloc[:,16:21], axis=1)"
   ]
  },
  {
   "cell_type": "code",
   "execution_count": 89,
   "id": "d7c70004",
   "metadata": {},
   "outputs": [],
   "source": [
    "data = pd.merge(per,inc, on='id')"
   ]
  },
  {
   "cell_type": "code",
   "execution_count": 94,
   "id": "ac61bd35",
   "metadata": {},
   "outputs": [],
   "source": [
    "data.to_csv('data.csv',index=False)"
   ]
  }
 ],
 "metadata": {
  "kernelspec": {
   "display_name": "Python 3",
   "language": "python",
   "name": "python3"
  },
  "language_info": {
   "codemirror_mode": {
    "name": "ipython",
    "version": 3
   },
   "file_extension": ".py",
   "mimetype": "text/x-python",
   "name": "python",
   "nbconvert_exporter": "python",
   "pygments_lexer": "ipython3",
   "version": "3.8.10"
  }
 },
 "nbformat": 4,
 "nbformat_minor": 5
}
